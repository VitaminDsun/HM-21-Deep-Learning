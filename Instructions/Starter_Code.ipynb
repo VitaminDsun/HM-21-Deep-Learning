{
 "cells": [
  {
   "cell_type": "markdown",
   "metadata": {},
   "source": [
    "## Preprocessing"
   ]
  },
  {
   "cell_type": "code",
   "execution_count": 1,
   "metadata": {},
   "outputs": [
    {
     "data": {
      "text/html": [
       "<div>\n",
       "<style scoped>\n",
       "    .dataframe tbody tr th:only-of-type {\n",
       "        vertical-align: middle;\n",
       "    }\n",
       "\n",
       "    .dataframe tbody tr th {\n",
       "        vertical-align: top;\n",
       "    }\n",
       "\n",
       "    .dataframe thead th {\n",
       "        text-align: right;\n",
       "    }\n",
       "</style>\n",
       "<table border=\"1\" class=\"dataframe\">\n",
       "  <thead>\n",
       "    <tr style=\"text-align: right;\">\n",
       "      <th></th>\n",
       "      <th>EIN</th>\n",
       "      <th>NAME</th>\n",
       "      <th>APPLICATION_TYPE</th>\n",
       "      <th>AFFILIATION</th>\n",
       "      <th>CLASSIFICATION</th>\n",
       "      <th>USE_CASE</th>\n",
       "      <th>ORGANIZATION</th>\n",
       "      <th>STATUS</th>\n",
       "      <th>INCOME_AMT</th>\n",
       "      <th>SPECIAL_CONSIDERATIONS</th>\n",
       "      <th>ASK_AMT</th>\n",
       "      <th>IS_SUCCESSFUL</th>\n",
       "    </tr>\n",
       "  </thead>\n",
       "  <tbody>\n",
       "    <tr>\n",
       "      <th>0</th>\n",
       "      <td>10520599</td>\n",
       "      <td>BLUE KNIGHTS MOTORCYCLE CLUB</td>\n",
       "      <td>T10</td>\n",
       "      <td>Independent</td>\n",
       "      <td>C1000</td>\n",
       "      <td>ProductDev</td>\n",
       "      <td>Association</td>\n",
       "      <td>1</td>\n",
       "      <td>0</td>\n",
       "      <td>N</td>\n",
       "      <td>5000</td>\n",
       "      <td>1</td>\n",
       "    </tr>\n",
       "    <tr>\n",
       "      <th>1</th>\n",
       "      <td>10531628</td>\n",
       "      <td>AMERICAN CHESAPEAKE CLUB CHARITABLE TR</td>\n",
       "      <td>T3</td>\n",
       "      <td>Independent</td>\n",
       "      <td>C2000</td>\n",
       "      <td>Preservation</td>\n",
       "      <td>Co-operative</td>\n",
       "      <td>1</td>\n",
       "      <td>1-9999</td>\n",
       "      <td>N</td>\n",
       "      <td>108590</td>\n",
       "      <td>1</td>\n",
       "    </tr>\n",
       "    <tr>\n",
       "      <th>2</th>\n",
       "      <td>10547893</td>\n",
       "      <td>ST CLOUD PROFESSIONAL FIREFIGHTERS</td>\n",
       "      <td>T5</td>\n",
       "      <td>CompanySponsored</td>\n",
       "      <td>C3000</td>\n",
       "      <td>ProductDev</td>\n",
       "      <td>Association</td>\n",
       "      <td>1</td>\n",
       "      <td>0</td>\n",
       "      <td>N</td>\n",
       "      <td>5000</td>\n",
       "      <td>0</td>\n",
       "    </tr>\n",
       "    <tr>\n",
       "      <th>3</th>\n",
       "      <td>10553066</td>\n",
       "      <td>SOUTHSIDE ATHLETIC ASSOCIATION</td>\n",
       "      <td>T3</td>\n",
       "      <td>CompanySponsored</td>\n",
       "      <td>C2000</td>\n",
       "      <td>Preservation</td>\n",
       "      <td>Trust</td>\n",
       "      <td>1</td>\n",
       "      <td>10000-24999</td>\n",
       "      <td>N</td>\n",
       "      <td>6692</td>\n",
       "      <td>1</td>\n",
       "    </tr>\n",
       "    <tr>\n",
       "      <th>4</th>\n",
       "      <td>10556103</td>\n",
       "      <td>GENETIC RESEARCH INSTITUTE OF THE DESERT</td>\n",
       "      <td>T3</td>\n",
       "      <td>Independent</td>\n",
       "      <td>C1000</td>\n",
       "      <td>Heathcare</td>\n",
       "      <td>Trust</td>\n",
       "      <td>1</td>\n",
       "      <td>100000-499999</td>\n",
       "      <td>N</td>\n",
       "      <td>142590</td>\n",
       "      <td>1</td>\n",
       "    </tr>\n",
       "  </tbody>\n",
       "</table>\n",
       "</div>"
      ],
      "text/plain": [
       "        EIN                                      NAME APPLICATION_TYPE  \\\n",
       "0  10520599              BLUE KNIGHTS MOTORCYCLE CLUB              T10   \n",
       "1  10531628    AMERICAN CHESAPEAKE CLUB CHARITABLE TR               T3   \n",
       "2  10547893        ST CLOUD PROFESSIONAL FIREFIGHTERS               T5   \n",
       "3  10553066            SOUTHSIDE ATHLETIC ASSOCIATION               T3   \n",
       "4  10556103  GENETIC RESEARCH INSTITUTE OF THE DESERT               T3   \n",
       "\n",
       "        AFFILIATION CLASSIFICATION      USE_CASE  ORGANIZATION  STATUS  \\\n",
       "0       Independent          C1000    ProductDev   Association       1   \n",
       "1       Independent          C2000  Preservation  Co-operative       1   \n",
       "2  CompanySponsored          C3000    ProductDev   Association       1   \n",
       "3  CompanySponsored          C2000  Preservation         Trust       1   \n",
       "4       Independent          C1000     Heathcare         Trust       1   \n",
       "\n",
       "      INCOME_AMT SPECIAL_CONSIDERATIONS  ASK_AMT  IS_SUCCESSFUL  \n",
       "0              0                      N     5000              1  \n",
       "1         1-9999                      N   108590              1  \n",
       "2              0                      N     5000              0  \n",
       "3    10000-24999                      N     6692              1  \n",
       "4  100000-499999                      N   142590              1  "
      ]
     },
     "execution_count": 1,
     "metadata": {},
     "output_type": "execute_result"
    }
   ],
   "source": [
    "# Import our dependencies\n",
    "from sklearn.model_selection import train_test_split\n",
    "from sklearn.preprocessing import StandardScaler\n",
    "import pandas as pd\n",
    "import tensorflow as tf\n",
    "\n",
    "#  Import and read the charity_data.csv.\n",
    "import pandas as pd \n",
    "application_df = pd.read_csv(\"../Resources/charity_data.csv\")\n",
    "application_df.head()"
   ]
  },
  {
   "cell_type": "code",
   "execution_count": 2,
   "metadata": {},
   "outputs": [],
   "source": [
    "# Drop the non-beneficial ID columns, 'EIN' and 'NAME'.\n",
    "application_df = application_df.drop(columns = ['EIN', 'NAME'])"
   ]
  },
  {
   "cell_type": "code",
   "execution_count": 3,
   "metadata": {},
   "outputs": [
    {
     "name": "stdout",
     "output_type": "stream",
     "text": [
      "APPLICATION_TYPE 17\n",
      "AFFILIATION 6\n",
      "CLASSIFICATION 71\n",
      "USE_CASE 5\n",
      "ORGANIZATION 4\n",
      "STATUS 2\n",
      "INCOME_AMT 9\n",
      "SPECIAL_CONSIDERATIONS 2\n",
      "ASK_AMT 8747\n",
      "IS_SUCCESSFUL 2\n"
     ]
    }
   ],
   "source": [
    "# Determine the number of unique values in each column.\n",
    "for x in application_df.columns:\n",
    "    print(x, len(application_df[x].unique()))"
   ]
  },
  {
   "cell_type": "code",
   "execution_count": 4,
   "metadata": {},
   "outputs": [
    {
     "data": {
      "text/plain": [
       "APPLICATION_TYPE            17\n",
       "AFFILIATION                  6\n",
       "CLASSIFICATION              71\n",
       "USE_CASE                     5\n",
       "ORGANIZATION                 4\n",
       "STATUS                       2\n",
       "INCOME_AMT                   9\n",
       "SPECIAL_CONSIDERATIONS       2\n",
       "ASK_AMT                   8747\n",
       "IS_SUCCESSFUL                2\n",
       "dtype: int64"
      ]
     },
     "execution_count": 4,
     "metadata": {},
     "output_type": "execute_result"
    }
   ],
   "source": [
    "\n",
    "application_df.nunique()"
   ]
  },
  {
   "cell_type": "code",
   "execution_count": 5,
   "metadata": {},
   "outputs": [
    {
     "data": {
      "text/plain": [
       "T3     27037\n",
       "T4      1542\n",
       "T6      1216\n",
       "T5      1173\n",
       "T19     1065\n",
       "T8       737\n",
       "T7       725\n",
       "T10      528\n",
       "T9       156\n",
       "T13       66\n",
       "T12       27\n",
       "T2        16\n",
       "T25        3\n",
       "T14        3\n",
       "T29        2\n",
       "T15        2\n",
       "T17        1\n",
       "Name: APPLICATION_TYPE, dtype: int64"
      ]
     },
     "execution_count": 5,
     "metadata": {},
     "output_type": "execute_result"
    }
   ],
   "source": [
    "# Look at APPLICATION_TYPE value counts for binning\n",
    "counts = application_df['APPLICATION_TYPE'].value_counts()\n",
    "counts"
   ]
  },
  {
   "cell_type": "code",
   "execution_count": 6,
   "metadata": {},
   "outputs": [
    {
     "data": {
      "text/plain": [
       "<AxesSubplot:ylabel='Density'>"
      ]
     },
     "execution_count": 6,
     "metadata": {},
     "output_type": "execute_result"
    },
    {
     "data": {
      "image/png": "[encoded data removed]",
      "text/plain": [
       "<Figure size 432x288 with 1 Axes>"
      ]
     },
     "metadata": {
      "needs_background": "light"
     },
     "output_type": "display_data"
    }
   ],
   "source": [
    "application_df.plot.density()"
   ]
  },
  {
   "cell_type": "code",
   "execution_count": 7,
   "metadata": {},
   "outputs": [
    {
     "data": {
      "text/plain": [
       "T3       27037\n",
       "T4        1542\n",
       "T6        1216\n",
       "T5        1173\n",
       "T19       1065\n",
       "T8         737\n",
       "T7         725\n",
       "T10        528\n",
       "Other      276\n",
       "Name: APPLICATION_TYPE, dtype: int64"
      ]
     },
     "execution_count": 7,
     "metadata": {},
     "output_type": "execute_result"
    }
   ],
   "source": [
    "# Choose a cutoff value and create a list of application types to be replaced\n",
    "# use the variable name `application_types_to_replace`\n",
    "application_types_to_replace = list(counts[counts<500].index)\n",
    "application_types_to_replace\n",
    "\n",
    "# Replace in dataframe\n",
    "for app in application_types_to_replace:\n",
    "    application_df['APPLICATION_TYPE'] = application_df['APPLICATION_TYPE'].replace(app,\"Other\")\n",
    "\n",
    "# Check to make sure binning was successful\n",
    "application_df['APPLICATION_TYPE'].value_counts()"
   ]
  },
  {
   "cell_type": "code",
   "execution_count": 8,
   "metadata": {},
   "outputs": [],
   "source": [
    "# Look at CLASSIFICATION value counts for binning\n",
    "countsbinning = application_df['CLASSIFICATION'].value_counts()"
   ]
  },
  {
   "cell_type": "code",
   "execution_count": 9,
   "metadata": {},
   "outputs": [
    {
     "data": {
      "text/plain": [
       "C1000    17326\n",
       "C2000     6074\n",
       "C1200     4837\n",
       "C3000     1918\n",
       "C2100     1883\n",
       "C7000      777\n",
       "C1700      287\n",
       "C4000      194\n",
       "C5000      116\n",
       "C1270      114\n",
       "C2700      104\n",
       "C2800       95\n",
       "C7100       75\n",
       "C1300       58\n",
       "C1280       50\n",
       "C1230       36\n",
       "C1400       34\n",
       "C7200       32\n",
       "C2300       32\n",
       "C1240       30\n",
       "C8000       20\n",
       "C7120       18\n",
       "C1500       16\n",
       "C1800       15\n",
       "C6000       15\n",
       "C1250       14\n",
       "C8200       11\n",
       "C1238       10\n",
       "C1278       10\n",
       "C1235        9\n",
       "C1237        9\n",
       "C7210        7\n",
       "C2400        6\n",
       "C1720        6\n",
       "C4100        6\n",
       "C1257        5\n",
       "C1600        5\n",
       "C1260        3\n",
       "C2710        3\n",
       "C0           3\n",
       "C3200        2\n",
       "C1234        2\n",
       "C1246        2\n",
       "C1267        2\n",
       "C1256        2\n",
       "Name: CLASSIFICATION, dtype: int64"
      ]
     },
     "execution_count": 9,
     "metadata": {},
     "output_type": "execute_result"
    }
   ],
   "source": [
    "# You may find it helpful to look at CLASSIFICATION value counts >1\n",
    "countsclassification = countsbinning[countsbinning>1]\n",
    "countsclassification"
   ]
  },
  {
   "cell_type": "code",
   "execution_count": 10,
   "metadata": {},
   "outputs": [
    {
     "data": {
      "text/plain": [
       "<AxesSubplot:ylabel='Density'>"
      ]
     },
     "execution_count": 10,
     "metadata": {},
     "output_type": "execute_result"
    },
    {
     "data": {
      "image/png": "[encoded data removed]",
      "text/plain": [
       "<Figure size 432x288 with 1 Axes>"
      ]
     },
     "metadata": {
      "needs_background": "light"
     },
     "output_type": "display_data"
    }
   ],
   "source": [
    "countsclassification.plot.density()"
   ]
  },
  {
   "cell_type": "code",
   "execution_count": 11,
   "metadata": {},
   "outputs": [
    {
     "data": {
      "text/plain": [
       "C1000    17326\n",
       "C2000     6074\n",
       "C1200     4837\n",
       "C3000     1918\n",
       "C2100     1883\n",
       "C7000      777\n",
       "Other      669\n",
       "C1700      287\n",
       "C4000      194\n",
       "C5000      116\n",
       "C1270      114\n",
       "C2700      104\n",
       "Name: CLASSIFICATION, dtype: int64"
      ]
     },
     "execution_count": 11,
     "metadata": {},
     "output_type": "execute_result"
    }
   ],
   "source": [
    "# Choose a cutoff value and create a list of classifications to be replaced\n",
    "# use the variable name `classifications_to_replace`\n",
    "classifications_to_replace = list (countsbinning[countsbinning<100].index)\n",
    "classifications_to_replace\n",
    "\n",
    "# Replace in dataframe\n",
    "for cls in classifications_to_replace:\n",
    "    application_df['CLASSIFICATION'] = application_df['CLASSIFICATION'].replace(cls,\"Other\")\n",
    "    \n",
    "# Check to make sure binning was successful\n",
    "application_df['CLASSIFICATION'].value_counts()"
   ]
  },
  {
   "cell_type": "code",
   "execution_count": 12,
   "metadata": {},
   "outputs": [
    {
     "data": {
      "text/html": [
       "<div>\n",
       "<style scoped>\n",
       "    .dataframe tbody tr th:only-of-type {\n",
       "        vertical-align: middle;\n",
       "    }\n",
       "\n",
       "    .dataframe tbody tr th {\n",
       "        vertical-align: top;\n",
       "    }\n",
       "\n",
       "    .dataframe thead th {\n",
       "        text-align: right;\n",
       "    }\n",
       "</style>\n",
       "<table border=\"1\" class=\"dataframe\">\n",
       "  <thead>\n",
       "    <tr style=\"text-align: right;\">\n",
       "      <th></th>\n",
       "      <th>STATUS</th>\n",
       "      <th>ASK_AMT</th>\n",
       "      <th>IS_SUCCESSFUL</th>\n",
       "      <th>APPLICATION_TYPE_Other</th>\n",
       "      <th>APPLICATION_TYPE_T10</th>\n",
       "      <th>APPLICATION_TYPE_T19</th>\n",
       "      <th>APPLICATION_TYPE_T3</th>\n",
       "      <th>APPLICATION_TYPE_T4</th>\n",
       "      <th>APPLICATION_TYPE_T5</th>\n",
       "      <th>APPLICATION_TYPE_T6</th>\n",
       "      <th>...</th>\n",
       "      <th>INCOME_AMT_1-9999</th>\n",
       "      <th>INCOME_AMT_10000-24999</th>\n",
       "      <th>INCOME_AMT_100000-499999</th>\n",
       "      <th>INCOME_AMT_10M-50M</th>\n",
       "      <th>INCOME_AMT_1M-5M</th>\n",
       "      <th>INCOME_AMT_25000-99999</th>\n",
       "      <th>INCOME_AMT_50M+</th>\n",
       "      <th>INCOME_AMT_5M-10M</th>\n",
       "      <th>SPECIAL_CONSIDERATIONS_N</th>\n",
       "      <th>SPECIAL_CONSIDERATIONS_Y</th>\n",
       "    </tr>\n",
       "  </thead>\n",
       "  <tbody>\n",
       "    <tr>\n",
       "      <th>0</th>\n",
       "      <td>1</td>\n",
       "      <td>5000</td>\n",
       "      <td>1</td>\n",
       "      <td>0.0</td>\n",
       "      <td>1.0</td>\n",
       "      <td>0.0</td>\n",
       "      <td>0.0</td>\n",
       "      <td>0.0</td>\n",
       "      <td>0.0</td>\n",
       "      <td>0.0</td>\n",
       "      <td>...</td>\n",
       "      <td>0.0</td>\n",
       "      <td>0.0</td>\n",
       "      <td>0.0</td>\n",
       "      <td>0.0</td>\n",
       "      <td>0.0</td>\n",
       "      <td>0.0</td>\n",
       "      <td>0.0</td>\n",
       "      <td>0.0</td>\n",
       "      <td>1.0</td>\n",
       "      <td>0.0</td>\n",
       "    </tr>\n",
       "    <tr>\n",
       "      <th>1</th>\n",
       "      <td>1</td>\n",
       "      <td>108590</td>\n",
       "      <td>1</td>\n",
       "      <td>0.0</td>\n",
       "      <td>0.0</td>\n",
       "      <td>0.0</td>\n",
       "      <td>1.0</td>\n",
       "      <td>0.0</td>\n",
       "      <td>0.0</td>\n",
       "      <td>0.0</td>\n",
       "      <td>...</td>\n",
       "      <td>1.0</td>\n",
       "      <td>0.0</td>\n",
       "      <td>0.0</td>\n",
       "      <td>0.0</td>\n",
       "      <td>0.0</td>\n",
       "      <td>0.0</td>\n",
       "      <td>0.0</td>\n",
       "      <td>0.0</td>\n",
       "      <td>1.0</td>\n",
       "      <td>0.0</td>\n",
       "    </tr>\n",
       "    <tr>\n",
       "      <th>2</th>\n",
       "      <td>1</td>\n",
       "      <td>5000</td>\n",
       "      <td>0</td>\n",
       "      <td>0.0</td>\n",
       "      <td>0.0</td>\n",
       "      <td>0.0</td>\n",
       "      <td>0.0</td>\n",
       "      <td>0.0</td>\n",
       "      <td>1.0</td>\n",
       "      <td>0.0</td>\n",
       "      <td>...</td>\n",
       "      <td>0.0</td>\n",
       "      <td>0.0</td>\n",
       "      <td>0.0</td>\n",
       "      <td>0.0</td>\n",
       "      <td>0.0</td>\n",
       "      <td>0.0</td>\n",
       "      <td>0.0</td>\n",
       "      <td>0.0</td>\n",
       "      <td>1.0</td>\n",
       "      <td>0.0</td>\n",
       "    </tr>\n",
       "    <tr>\n",
       "      <th>3</th>\n",
       "      <td>1</td>\n",
       "      <td>6692</td>\n",
       "      <td>1</td>\n",
       "      <td>0.0</td>\n",
       "      <td>0.0</td>\n",
       "      <td>0.0</td>\n",
       "      <td>1.0</td>\n",
       "      <td>0.0</td>\n",
       "      <td>0.0</td>\n",
       "      <td>0.0</td>\n",
       "      <td>...</td>\n",
       "      <td>0.0</td>\n",
       "      <td>1.0</td>\n",
       "      <td>0.0</td>\n",
       "      <td>0.0</td>\n",
       "      <td>0.0</td>\n",
       "      <td>0.0</td>\n",
       "      <td>0.0</td>\n",
       "      <td>0.0</td>\n",
       "      <td>1.0</td>\n",
       "      <td>0.0</td>\n",
       "    </tr>\n",
       "    <tr>\n",
       "      <th>4</th>\n",
       "      <td>1</td>\n",
       "      <td>142590</td>\n",
       "      <td>1</td>\n",
       "      <td>0.0</td>\n",
       "      <td>0.0</td>\n",
       "      <td>0.0</td>\n",
       "      <td>1.0</td>\n",
       "      <td>0.0</td>\n",
       "      <td>0.0</td>\n",
       "      <td>0.0</td>\n",
       "      <td>...</td>\n",
       "      <td>0.0</td>\n",
       "      <td>0.0</td>\n",
       "      <td>1.0</td>\n",
       "      <td>0.0</td>\n",
       "      <td>0.0</td>\n",
       "      <td>0.0</td>\n",
       "      <td>0.0</td>\n",
       "      <td>0.0</td>\n",
       "      <td>1.0</td>\n",
       "      <td>0.0</td>\n",
       "    </tr>\n",
       "  </tbody>\n",
       "</table>\n",
       "<p>5 rows × 50 columns</p>\n",
       "</div>"
      ],
      "text/plain": [
       "   STATUS  ASK_AMT  IS_SUCCESSFUL  APPLICATION_TYPE_Other  \\\n",
       "0       1     5000              1                     0.0   \n",
       "1       1   108590              1                     0.0   \n",
       "2       1     5000              0                     0.0   \n",
       "3       1     6692              1                     0.0   \n",
       "4       1   142590              1                     0.0   \n",
       "\n",
       "   APPLICATION_TYPE_T10  APPLICATION_TYPE_T19  APPLICATION_TYPE_T3  \\\n",
       "0                   1.0                   0.0                  0.0   \n",
       "1                   0.0                   0.0                  1.0   \n",
       "2                   0.0                   0.0                  0.0   \n",
       "3                   0.0                   0.0                  1.0   \n",
       "4                   0.0                   0.0                  1.0   \n",
       "\n",
       "   APPLICATION_TYPE_T4  APPLICATION_TYPE_T5  APPLICATION_TYPE_T6  ...  \\\n",
       "0                  0.0                  0.0                  0.0  ...   \n",
       "1                  0.0                  0.0                  0.0  ...   \n",
       "2                  0.0                  1.0                  0.0  ...   \n",
       "3                  0.0                  0.0                  0.0  ...   \n",
       "4                  0.0                  0.0                  0.0  ...   \n",
       "\n",
       "   INCOME_AMT_1-9999  INCOME_AMT_10000-24999  INCOME_AMT_100000-499999  \\\n",
       "0                0.0                     0.0                       0.0   \n",
       "1                1.0                     0.0                       0.0   \n",
       "2                0.0                     0.0                       0.0   \n",
       "3                0.0                     1.0                       0.0   \n",
       "4                0.0                     0.0                       1.0   \n",
       "\n",
       "   INCOME_AMT_10M-50M  INCOME_AMT_1M-5M  INCOME_AMT_25000-99999  \\\n",
       "0                 0.0               0.0                     0.0   \n",
       "1                 0.0               0.0                     0.0   \n",
       "2                 0.0               0.0                     0.0   \n",
       "3                 0.0               0.0                     0.0   \n",
       "4                 0.0               0.0                     0.0   \n",
       "\n",
       "   INCOME_AMT_50M+  INCOME_AMT_5M-10M  SPECIAL_CONSIDERATIONS_N  \\\n",
       "0              0.0                0.0                       1.0   \n",
       "1              0.0                0.0                       1.0   \n",
       "2              0.0                0.0                       1.0   \n",
       "3              0.0                0.0                       1.0   \n",
       "4              0.0                0.0                       1.0   \n",
       "\n",
       "   SPECIAL_CONSIDERATIONS_Y  \n",
       "0                       0.0  \n",
       "1                       0.0  \n",
       "2                       0.0  \n",
       "3                       0.0  \n",
       "4                       0.0  \n",
       "\n",
       "[5 rows x 50 columns]"
      ]
     },
     "execution_count": 12,
     "metadata": {},
     "output_type": "execute_result"
    }
   ],
   "source": [
    "# Convert categorical data to numeric with `pd.get_dummies`\n",
    "application_df = pd.get_dummies(application_df,dtype=float)\n",
    "application_df.head()"
   ]
  },
  {
   "cell_type": "code",
   "execution_count": 13,
   "metadata": {},
   "outputs": [],
   "source": [
    "# Split our preprocessed data into our features and target arrays\n",
    "y = application_df['IS_SUCCESSFUL'].values\n",
    "y\n",
    "\n",
    "# drop 'IS SUCCESSFUL'\n",
    "X = application_df.drop('IS_SUCCESSFUL', axis=1).values\n",
    "X\n",
    "\n",
    "# Split the preprocessed data into a training and testing dataset\n",
    "X_train, X_test, y_train, y_test = train_test_split(X,y,random_state = 42)"
   ]
  },
  {
   "cell_type": "code",
   "execution_count": 14,
   "metadata": {},
   "outputs": [],
   "source": [
    "# Create a StandardScaler instances\n",
    "scaler = StandardScaler()\n",
    "\n",
    "# Fit the StandardScaler\n",
    "X_scaler = scaler.fit(X_train)\n",
    "\n",
    "# Scale the data\n",
    "X_train_scaled = X_scaler.transform(X_train)\n",
    "X_test_scaled = X_scaler.transform(X_test)"
   ]
  },
  {
   "cell_type": "markdown",
   "metadata": {},
   "source": [
    "## Compile, Train and Evaluate the Model"
   ]
  },
  {
   "cell_type": "code",
   "execution_count": 15,
   "metadata": {},
   "outputs": [
    {
     "name": "stdout",
     "output_type": "stream",
     "text": [
      "Model: \"sequential_2\"\n",
      "_________________________________________________________________\n",
      " Layer (type)                Output Shape              Param #   \n",
      "=================================================================\n",
      " dense (Dense)               (None, 7)                 350       \n",
      "                                                                 \n",
      " dense_1 (Dense)             (None, 14)                112       \n",
      "                                                                 \n",
      " dense_2 (Dense)             (None, 1)                 15        \n",
      "                                                                 \n",
      "=================================================================\n",
      "Total params: 477\n",
      "Trainable params: 477\n",
      "Non-trainable params: 0\n",
      "_________________________________________________________________\n"
     ]
    }
   ],
   "source": [
    "# Define the model - deep neural net, i.e., the number of input features and hidden nodes for each layer.\n",
    "number_input_features = len( X_train_scaled[0])\n",
    "hidden_nodes_layer1=7\n",
    "hidden_nodes_layer2=14\n",
    "hidden_nodes_layer3=21\n",
    "nn = tf.keras.models.Sequential()\n",
    "\n",
    "nn = tf.keras.models.Sequential()\n",
    "\n",
    "\n",
    "nn = tf.keras.models.Sequential()\n",
    "\n",
    "# First hidden layer\n",
    "nn.add(tf.keras.layers.Dense(units=hidden_nodes_layer1, input_dim=number_input_features, activation='relu'))\n",
    "\n",
    "\n",
    "# Second hidden layer\n",
    "nn.add(tf.keras.layers.Dense(units=hidden_nodes_layer2, activation='relu'))\n",
    "\n",
    "\n",
    "# Output layer\n",
    "nn.add(tf.keras.layers.Dense(units=1, activation='sigmoid'))\n",
    "\n",
    "# Check the structure of the model\n",
    "nn.summary()"
   ]
  },
  {
   "cell_type": "code",
   "execution_count": 16,
   "metadata": {},
   "outputs": [],
   "source": [
    "# Compile the model\n",
    "nn.compile(loss = 'binary_crossentropy', optimizer = 'adam', metrics=['accuracy'])"
   ]
  },
  {
   "cell_type": "code",
   "execution_count": 17,
   "metadata": {},
   "outputs": [
    {
     "name": "stdout",
     "output_type": "stream",
     "text": [
      "Epoch 1/100\n",
      "684/684 [==============================] - 3s 3ms/step - loss: 0.5930 - accuracy: 0.7044 - val_loss: 0.5579 - val_accuracy: 0.7310\n",
      "Epoch 2/100\n",
      "684/684 [==============================] - 2s 2ms/step - loss: 0.5613 - accuracy: 0.7235 - val_loss: 0.5488 - val_accuracy: 0.7349\n",
      "Epoch 3/100\n",
      "684/684 [==============================] - 2s 2ms/step - loss: 0.5562 - accuracy: 0.7248 - val_loss: 0.5486 - val_accuracy: 0.7357\n",
      "Epoch 4/100\n",
      "684/684 [==============================] - 1s 2ms/step - loss: 0.5546 - accuracy: 0.7251 - val_loss: 0.5461 - val_accuracy: 0.7362\n",
      "Epoch 5/100\n",
      "684/684 [==============================] - 2s 2ms/step - loss: 0.5532 - accuracy: 0.7259 - val_loss: 0.5464 - val_accuracy: 0.7357\n",
      "Epoch 6/100\n",
      "684/684 [==============================] - 2s 2ms/step - loss: 0.5520 - accuracy: 0.7273 - val_loss: 0.5464 - val_accuracy: 0.7339\n",
      "Epoch 7/100\n",
      "684/684 [==============================] - 2s 2ms/step - loss: 0.5515 - accuracy: 0.7270 - val_loss: 0.5455 - val_accuracy: 0.7362\n",
      "Epoch 8/100\n",
      "684/684 [==============================] - 1s 2ms/step - loss: 0.5505 - accuracy: 0.7280 - val_loss: 0.5458 - val_accuracy: 0.7357\n",
      "Epoch 9/100\n",
      "684/684 [==============================] - 1s 2ms/step - loss: 0.5504 - accuracy: 0.7293 - val_loss: 0.5438 - val_accuracy: 0.7352\n",
      "Epoch 10/100\n",
      "684/684 [==============================] - 2s 2ms/step - loss: 0.5500 - accuracy: 0.7285 - val_loss: 0.5442 - val_accuracy: 0.7346\n",
      "Epoch 11/100\n",
      "684/684 [==============================] - 1s 2ms/step - loss: 0.5493 - accuracy: 0.7296 - val_loss: 0.5448 - val_accuracy: 0.7362\n",
      "Epoch 12/100\n",
      "684/684 [==============================] - 1s 2ms/step - loss: 0.5493 - accuracy: 0.7287 - val_loss: 0.5433 - val_accuracy: 0.7349\n",
      "Epoch 13/100\n",
      "684/684 [==============================] - 1s 2ms/step - loss: 0.5490 - accuracy: 0.7300 - val_loss: 0.5448 - val_accuracy: 0.7344\n",
      "Epoch 14/100\n",
      "684/684 [==============================] - 1s 2ms/step - loss: 0.5489 - accuracy: 0.7292 - val_loss: 0.5434 - val_accuracy: 0.7362\n",
      "Epoch 15/100\n",
      "684/684 [==============================] - 1s 2ms/step - loss: 0.5485 - accuracy: 0.7308 - val_loss: 0.5452 - val_accuracy: 0.7352\n",
      "Epoch 16/100\n",
      "684/684 [==============================] - 2s 3ms/step - loss: 0.5481 - accuracy: 0.7305 - val_loss: 0.5431 - val_accuracy: 0.7362\n",
      "Epoch 17/100\n",
      "684/684 [==============================] - 2s 2ms/step - loss: 0.5483 - accuracy: 0.7306 - val_loss: 0.5439 - val_accuracy: 0.7354\n",
      "Epoch 18/100\n",
      "684/684 [==============================] - 2s 3ms/step - loss: 0.5479 - accuracy: 0.7309 - val_loss: 0.5437 - val_accuracy: 0.7344\n",
      "Epoch 19/100\n",
      "684/684 [==============================] - 2s 3ms/step - loss: 0.5480 - accuracy: 0.7313 - val_loss: 0.5441 - val_accuracy: 0.7344\n",
      "Epoch 20/100\n",
      "684/684 [==============================] - 2s 3ms/step - loss: 0.5477 - accuracy: 0.7312 - val_loss: 0.5453 - val_accuracy: 0.7365\n",
      "Epoch 21/100\n",
      "684/684 [==============================] - 2s 3ms/step - loss: 0.5475 - accuracy: 0.7314 - val_loss: 0.5439 - val_accuracy: 0.7370\n",
      "Epoch 22/100\n",
      "684/684 [==============================] - 1s 2ms/step - loss: 0.5471 - accuracy: 0.7307 - val_loss: 0.5430 - val_accuracy: 0.7362\n",
      "Epoch 23/100\n",
      "684/684 [==============================] - 1s 2ms/step - loss: 0.5471 - accuracy: 0.7310 - val_loss: 0.5439 - val_accuracy: 0.7365\n",
      "Epoch 24/100\n",
      "684/684 [==============================] - 1s 2ms/step - loss: 0.5470 - accuracy: 0.7313 - val_loss: 0.5434 - val_accuracy: 0.7365\n",
      "Epoch 25/100\n",
      "684/684 [==============================] - 1s 2ms/step - loss: 0.5471 - accuracy: 0.7324 - val_loss: 0.5442 - val_accuracy: 0.7354\n",
      "Epoch 26/100\n",
      "684/684 [==============================] - 1s 2ms/step - loss: 0.5465 - accuracy: 0.7314 - val_loss: 0.5432 - val_accuracy: 0.7359\n",
      "Epoch 27/100\n",
      "684/684 [==============================] - 1s 2ms/step - loss: 0.5465 - accuracy: 0.7318 - val_loss: 0.5442 - val_accuracy: 0.7362\n",
      "Epoch 28/100\n",
      "684/684 [==============================] - 1s 2ms/step - loss: 0.5465 - accuracy: 0.7317 - val_loss: 0.5435 - val_accuracy: 0.7370\n",
      "Epoch 29/100\n",
      "684/684 [==============================] - 1s 2ms/step - loss: 0.5465 - accuracy: 0.7317 - val_loss: 0.5423 - val_accuracy: 0.7349\n",
      "Epoch 30/100\n",
      "684/684 [==============================] - 1s 2ms/step - loss: 0.5461 - accuracy: 0.7318 - val_loss: 0.5435 - val_accuracy: 0.7359\n",
      "Epoch 31/100\n",
      "684/684 [==============================] - 1s 2ms/step - loss: 0.5461 - accuracy: 0.7318 - val_loss: 0.5432 - val_accuracy: 0.7349\n",
      "Epoch 32/100\n",
      "684/684 [==============================] - 1s 2ms/step - loss: 0.5460 - accuracy: 0.7319 - val_loss: 0.5436 - val_accuracy: 0.7388\n",
      "Epoch 33/100\n",
      "684/684 [==============================] - 1s 2ms/step - loss: 0.5457 - accuracy: 0.7320 - val_loss: 0.5431 - val_accuracy: 0.7357\n",
      "Epoch 34/100\n",
      "684/684 [==============================] - 1s 2ms/step - loss: 0.5458 - accuracy: 0.7326 - val_loss: 0.5435 - val_accuracy: 0.7326\n",
      "Epoch 35/100\n",
      "684/684 [==============================] - 1s 2ms/step - loss: 0.5451 - accuracy: 0.7329 - val_loss: 0.5437 - val_accuracy: 0.7375\n",
      "Epoch 36/100\n",
      "684/684 [==============================] - 1s 2ms/step - loss: 0.5456 - accuracy: 0.7322 - val_loss: 0.5445 - val_accuracy: 0.7359\n",
      "Epoch 37/100\n",
      "684/684 [==============================] - 1s 2ms/step - loss: 0.5453 - accuracy: 0.7316 - val_loss: 0.5434 - val_accuracy: 0.7365\n",
      "Epoch 38/100\n",
      "684/684 [==============================] - 1s 2ms/step - loss: 0.5456 - accuracy: 0.7318 - val_loss: 0.5435 - val_accuracy: 0.7349\n",
      "Epoch 39/100\n",
      "684/684 [==============================] - 1s 2ms/step - loss: 0.5453 - accuracy: 0.7326 - val_loss: 0.5426 - val_accuracy: 0.7349\n",
      "Epoch 40/100\n",
      "684/684 [==============================] - 1s 2ms/step - loss: 0.5447 - accuracy: 0.7340 - val_loss: 0.5426 - val_accuracy: 0.7344\n",
      "Epoch 41/100\n",
      "684/684 [==============================] - 1s 2ms/step - loss: 0.5453 - accuracy: 0.7325 - val_loss: 0.5436 - val_accuracy: 0.7354\n",
      "Epoch 42/100\n",
      "684/684 [==============================] - 1s 2ms/step - loss: 0.5446 - accuracy: 0.7322 - val_loss: 0.5448 - val_accuracy: 0.7349\n",
      "Epoch 43/100\n",
      "684/684 [==============================] - 1s 2ms/step - loss: 0.5448 - accuracy: 0.7321 - val_loss: 0.5414 - val_accuracy: 0.7370\n",
      "Epoch 44/100\n",
      "684/684 [==============================] - 1s 2ms/step - loss: 0.5447 - accuracy: 0.7320 - val_loss: 0.5419 - val_accuracy: 0.7349\n",
      "Epoch 45/100\n",
      "684/684 [==============================] - 1s 2ms/step - loss: 0.5446 - accuracy: 0.7332 - val_loss: 0.5437 - val_accuracy: 0.7352\n",
      "Epoch 46/100\n",
      "684/684 [==============================] - 1s 2ms/step - loss: 0.5446 - accuracy: 0.7328 - val_loss: 0.5425 - val_accuracy: 0.7349\n",
      "Epoch 47/100\n",
      "684/684 [==============================] - 1s 2ms/step - loss: 0.5446 - accuracy: 0.7338 - val_loss: 0.5438 - val_accuracy: 0.7305\n",
      "Epoch 48/100\n",
      "684/684 [==============================] - 1s 2ms/step - loss: 0.5447 - accuracy: 0.7336 - val_loss: 0.5429 - val_accuracy: 0.7349\n",
      "Epoch 49/100\n",
      "684/684 [==============================] - 1s 2ms/step - loss: 0.5440 - accuracy: 0.7328 - val_loss: 0.5433 - val_accuracy: 0.7349\n",
      "Epoch 50/100\n",
      "684/684 [==============================] - 1s 2ms/step - loss: 0.5441 - accuracy: 0.7329 - val_loss: 0.5442 - val_accuracy: 0.7349\n",
      "Epoch 51/100\n",
      "684/684 [==============================] - 1s 2ms/step - loss: 0.5439 - accuracy: 0.7328 - val_loss: 0.5430 - val_accuracy: 0.7354\n",
      "Epoch 52/100\n",
      "684/684 [==============================] - 1s 2ms/step - loss: 0.5440 - accuracy: 0.7333 - val_loss: 0.5423 - val_accuracy: 0.7352\n",
      "Epoch 53/100\n",
      "684/684 [==============================] - 1s 2ms/step - loss: 0.5443 - accuracy: 0.7333 - val_loss: 0.5429 - val_accuracy: 0.7357\n",
      "Epoch 54/100\n",
      "684/684 [==============================] - 1s 2ms/step - loss: 0.5440 - accuracy: 0.7327 - val_loss: 0.5421 - val_accuracy: 0.7383\n",
      "Epoch 55/100\n",
      "684/684 [==============================] - 1s 2ms/step - loss: 0.5437 - accuracy: 0.7339 - val_loss: 0.5409 - val_accuracy: 0.7367\n",
      "Epoch 56/100\n",
      "684/684 [==============================] - 1s 2ms/step - loss: 0.5438 - accuracy: 0.7333 - val_loss: 0.5448 - val_accuracy: 0.7357\n",
      "Epoch 57/100\n",
      "684/684 [==============================] - 1s 2ms/step - loss: 0.5440 - accuracy: 0.7329 - val_loss: 0.5440 - val_accuracy: 0.7370\n",
      "Epoch 58/100\n",
      "684/684 [==============================] - 1s 2ms/step - loss: 0.5440 - accuracy: 0.7337 - val_loss: 0.5423 - val_accuracy: 0.7365\n",
      "Epoch 59/100\n",
      "684/684 [==============================] - 1s 2ms/step - loss: 0.5438 - accuracy: 0.7337 - val_loss: 0.5423 - val_accuracy: 0.7365\n",
      "Epoch 60/100\n",
      "684/684 [==============================] - 1s 2ms/step - loss: 0.5434 - accuracy: 0.7330 - val_loss: 0.5424 - val_accuracy: 0.7359\n",
      "Epoch 61/100\n",
      "684/684 [==============================] - 1s 2ms/step - loss: 0.5433 - accuracy: 0.7343 - val_loss: 0.5420 - val_accuracy: 0.7372\n",
      "Epoch 62/100\n",
      "684/684 [==============================] - 1s 2ms/step - loss: 0.5436 - accuracy: 0.7344 - val_loss: 0.5425 - val_accuracy: 0.7357\n",
      "Epoch 63/100\n",
      "684/684 [==============================] - 1s 2ms/step - loss: 0.5432 - accuracy: 0.7333 - val_loss: 0.5430 - val_accuracy: 0.7370\n",
      "Epoch 64/100\n",
      "684/684 [==============================] - 1s 2ms/step - loss: 0.5430 - accuracy: 0.7334 - val_loss: 0.5452 - val_accuracy: 0.7341\n",
      "Epoch 65/100\n",
      "684/684 [==============================] - 1s 2ms/step - loss: 0.5434 - accuracy: 0.7345 - val_loss: 0.5421 - val_accuracy: 0.7362\n",
      "Epoch 66/100\n",
      "684/684 [==============================] - 1s 2ms/step - loss: 0.5436 - accuracy: 0.7349 - val_loss: 0.5431 - val_accuracy: 0.7370\n",
      "Epoch 67/100\n",
      "684/684 [==============================] - 1s 2ms/step - loss: 0.5433 - accuracy: 0.7338 - val_loss: 0.5443 - val_accuracy: 0.7326\n",
      "Epoch 68/100\n",
      "684/684 [==============================] - 1s 2ms/step - loss: 0.5432 - accuracy: 0.7328 - val_loss: 0.5425 - val_accuracy: 0.7349\n",
      "Epoch 69/100\n",
      "684/684 [==============================] - 1s 2ms/step - loss: 0.5431 - accuracy: 0.7338 - val_loss: 0.5422 - val_accuracy: 0.7359\n",
      "Epoch 70/100\n",
      "684/684 [==============================] - 1s 2ms/step - loss: 0.5431 - accuracy: 0.7338 - val_loss: 0.5428 - val_accuracy: 0.7359\n",
      "Epoch 71/100\n",
      "684/684 [==============================] - 1s 2ms/step - loss: 0.5430 - accuracy: 0.7335 - val_loss: 0.5429 - val_accuracy: 0.7359\n",
      "Epoch 72/100\n",
      "684/684 [==============================] - 1s 2ms/step - loss: 0.5430 - accuracy: 0.7330 - val_loss: 0.5430 - val_accuracy: 0.7339\n",
      "Epoch 73/100\n",
      "684/684 [==============================] - 1s 2ms/step - loss: 0.5429 - accuracy: 0.7336 - val_loss: 0.5430 - val_accuracy: 0.7349\n",
      "Epoch 74/100\n",
      "684/684 [==============================] - 1s 2ms/step - loss: 0.5430 - accuracy: 0.7341 - val_loss: 0.5420 - val_accuracy: 0.7362\n",
      "Epoch 75/100\n",
      "684/684 [==============================] - 2s 2ms/step - loss: 0.5432 - accuracy: 0.7334 - val_loss: 0.5421 - val_accuracy: 0.7365\n",
      "Epoch 76/100\n",
      "684/684 [==============================] - 2s 2ms/step - loss: 0.5428 - accuracy: 0.7343 - val_loss: 0.5431 - val_accuracy: 0.7352\n",
      "Epoch 77/100\n",
      "684/684 [==============================] - 2s 2ms/step - loss: 0.5431 - accuracy: 0.7333 - val_loss: 0.5431 - val_accuracy: 0.7359\n",
      "Epoch 78/100\n",
      "684/684 [==============================] - 1s 2ms/step - loss: 0.5428 - accuracy: 0.7332 - val_loss: 0.5415 - val_accuracy: 0.7349\n",
      "Epoch 79/100\n",
      "684/684 [==============================] - 1s 2ms/step - loss: 0.5429 - accuracy: 0.7339 - val_loss: 0.5411 - val_accuracy: 0.7357\n",
      "Epoch 80/100\n",
      "684/684 [==============================] - 1s 2ms/step - loss: 0.5428 - accuracy: 0.7346 - val_loss: 0.5417 - val_accuracy: 0.7365\n",
      "Epoch 81/100\n",
      "684/684 [==============================] - 1s 2ms/step - loss: 0.5427 - accuracy: 0.7341 - val_loss: 0.5428 - val_accuracy: 0.7357\n",
      "Epoch 82/100\n",
      "684/684 [==============================] - 1s 1ms/step - loss: 0.5432 - accuracy: 0.7334 - val_loss: 0.5412 - val_accuracy: 0.7365\n",
      "Epoch 83/100\n",
      "684/684 [==============================] - 1s 1ms/step - loss: 0.5428 - accuracy: 0.7348 - val_loss: 0.5409 - val_accuracy: 0.7362\n",
      "Epoch 84/100\n",
      "684/684 [==============================] - 1s 2ms/step - loss: 0.5427 - accuracy: 0.7345 - val_loss: 0.5419 - val_accuracy: 0.7346\n",
      "Epoch 85/100\n",
      "684/684 [==============================] - 1s 2ms/step - loss: 0.5427 - accuracy: 0.7336 - val_loss: 0.5421 - val_accuracy: 0.7346\n",
      "Epoch 86/100\n",
      "684/684 [==============================] - 1s 2ms/step - loss: 0.5426 - accuracy: 0.7344 - val_loss: 0.5424 - val_accuracy: 0.7359\n",
      "Epoch 87/100\n",
      "684/684 [==============================] - 1s 1ms/step - loss: 0.5428 - accuracy: 0.7337 - val_loss: 0.5426 - val_accuracy: 0.7352\n",
      "Epoch 88/100\n",
      "684/684 [==============================] - 1s 1ms/step - loss: 0.5424 - accuracy: 0.7329 - val_loss: 0.5419 - val_accuracy: 0.7339\n",
      "Epoch 89/100\n",
      "684/684 [==============================] - 1s 1ms/step - loss: 0.5421 - accuracy: 0.7347 - val_loss: 0.5420 - val_accuracy: 0.7336\n",
      "Epoch 90/100\n",
      "684/684 [==============================] - 1s 2ms/step - loss: 0.5425 - accuracy: 0.7343 - val_loss: 0.5431 - val_accuracy: 0.7346\n",
      "Epoch 91/100\n",
      "684/684 [==============================] - 1s 1ms/step - loss: 0.5425 - accuracy: 0.7345 - val_loss: 0.5428 - val_accuracy: 0.7349\n",
      "Epoch 92/100\n",
      "684/684 [==============================] - 1s 1ms/step - loss: 0.5425 - accuracy: 0.7343 - val_loss: 0.5412 - val_accuracy: 0.7352\n",
      "Epoch 93/100\n",
      "684/684 [==============================] - 1s 1ms/step - loss: 0.5424 - accuracy: 0.7354 - val_loss: 0.5428 - val_accuracy: 0.7349\n",
      "Epoch 94/100\n",
      "684/684 [==============================] - 1s 2ms/step - loss: 0.5423 - accuracy: 0.7349 - val_loss: 0.5426 - val_accuracy: 0.7352\n",
      "Epoch 95/100\n",
      "684/684 [==============================] - 1s 1ms/step - loss: 0.5423 - accuracy: 0.7347 - val_loss: 0.5434 - val_accuracy: 0.7359\n",
      "Epoch 96/100\n",
      "684/684 [==============================] - 1s 1ms/step - loss: 0.5423 - accuracy: 0.7348 - val_loss: 0.5430 - val_accuracy: 0.7352\n",
      "Epoch 97/100\n",
      "684/684 [==============================] - 1s 1ms/step - loss: 0.5422 - accuracy: 0.7346 - val_loss: 0.5433 - val_accuracy: 0.7352\n",
      "Epoch 98/100\n",
      "684/684 [==============================] - 1s 2ms/step - loss: 0.5420 - accuracy: 0.7346 - val_loss: 0.5429 - val_accuracy: 0.7349\n",
      "Epoch 99/100\n",
      "684/684 [==============================] - 1s 1ms/step - loss: 0.5419 - accuracy: 0.7352 - val_loss: 0.5422 - val_accuracy: 0.7349\n",
      "Epoch 100/100\n",
      "684/684 [==============================] - 1s 2ms/step - loss: 0.5419 - accuracy: 0.7349 - val_loss: 0.5430 - val_accuracy: 0.7346\n"
     ]
    }
   ],
   "source": [
    "# Train the model\n",
    "fit_model = nn.fit(X_train_scaled,y_train,validation_split=0.15, epochs=100)"
   ]
  },
  {
   "cell_type": "code",
   "execution_count": 18,
   "metadata": {},
   "outputs": [
    {
     "name": "stdout",
     "output_type": "stream",
     "text": [
      "268/268 - 0s - loss: 0.5505 - accuracy: 0.7326 - 234ms/epoch - 874us/step\n",
      "Loss: 0.5504564642906189, Accuracy: 0.7325947284698486\n"
     ]
    }
   ],
   "source": [
    "# Evaluate the model using the test data\n",
    "model_loss, model_accuracy = nn.evaluate(X_test_scaled,y_test,verbose=2)\n",
    "print(f\"Loss: {model_loss}, Accuracy: {model_accuracy}\")"
   ]
  },
  {
   "cell_type": "code",
   "execution_count": 19,
   "metadata": {},
   "outputs": [],
   "source": [
    "# Export our model to HDF5 file\n",
    "nn.save(\"AlphabetSoupCharity.h5\")\n"
   ]
  },
  {
   "cell_type": "markdown",
   "metadata": {},
   "source": [
    "### Attempt 2: Adding Additional neurons to hidden layers and additional layers are added "
   ]
  },
  {
   "cell_type": "code",
   "execution_count": 20,
   "metadata": {},
   "outputs": [
    {
     "name": "stdout",
     "output_type": "stream",
     "text": [
      "Model: \"sequential_3\"\n",
      "_________________________________________________________________\n",
      " Layer (type)                Output Shape              Param #   \n",
      "=================================================================\n",
      " dense_3 (Dense)             (None, 100)               5000      \n",
      "                                                                 \n",
      " dense_4 (Dense)             (None, 50)                5050      \n",
      "                                                                 \n",
      " dense_5 (Dense)             (None, 20)                1020      \n",
      "                                                                 \n",
      " dense_6 (Dense)             (None, 1)                 21        \n",
      "                                                                 \n",
      "=================================================================\n",
      "Total params: 11,091\n",
      "Trainable params: 11,091\n",
      "Non-trainable params: 0\n",
      "_________________________________________________________________\n"
     ]
    }
   ],
   "source": [
    "number_input_features = len(X_train[0])\n",
    "hidden_nodes_layer1 = 100\n",
    "hidden_nodes_layer2 = 50\n",
    "hidden_nodes_layer3 = 20\n",
    "\n",
    "nn = tf.keras.models.Sequential()\n",
    "\n",
    "# First hidden layer\n",
    "nn.add(tf.keras.layers.Dense(units=hidden_nodes_layer1, input_dim=number_input_features, activation=\"relu\"))\n",
    "\n",
    "# Second hidden layer\n",
    "nn.add(tf.keras.layers.Dense(units=hidden_nodes_layer2, activation=\"relu\"))\n",
    "\n",
    "# Third hidden layer\n",
    "nn.add(tf.keras.layers.Dense(units=hidden_nodes_layer3, activation=\"relu\"))\n",
    "\n",
    "\n",
    "# Output layer\n",
    "nn.add(tf.keras.layers.Dense(units=1, activation=\"sigmoid\"))\n",
    "\n",
    "# Check the structure of the model\n",
    "nn.summary()"
   ]
  },
  {
   "cell_type": "code",
   "execution_count": 21,
   "metadata": {},
   "outputs": [],
   "source": [
    "# Import checkpoint dependencies\n",
    "import os\n",
    "from tensorflow.keras.callbacks import ModelCheckpoint\n",
    "\n",
    "# Define the checkpoint path and filenames\n",
    "os.makedirs(\"checkpoints/\",exist_ok=True)\n",
    "checkpoint_path = \"checkpoints/weights.{epoch:02d}.hdf5\""
   ]
  },
  {
   "cell_type": "code",
   "execution_count": 22,
   "metadata": {},
   "outputs": [],
   "source": [
    "# Compile the model\n",
    "nn.compile(loss=\"binary_crossentropy\", optimizer=\"adam\", metrics=[\"accuracy\"])"
   ]
  },
  {
   "cell_type": "code",
   "execution_count": 23,
   "metadata": {},
   "outputs": [
    {
     "name": "stdout",
     "output_type": "stream",
     "text": [
      "Epoch 1/30\n",
      "804/804 [==============================] - 3s 3ms/step - loss: 49118.8867 - accuracy: 0.5000\n",
      "Epoch 2/30\n",
      "804/804 [==============================] - 2s 2ms/step - loss: 17708.9883 - accuracy: 0.4940\n",
      "Epoch 3/30\n",
      "804/804 [==============================] - 2s 2ms/step - loss: 10245.1934 - accuracy: 0.4960\n",
      "Epoch 4/30\n",
      "804/804 [==============================] - 1s 2ms/step - loss: 9723.1680 - accuracy: 0.4972\n",
      "Epoch 5/30\n",
      "804/804 [==============================] - 2s 2ms/step - loss: 0.9640 - accuracy: 0.5318\n",
      "Epoch 6/30\n",
      "804/804 [==============================] - 1s 2ms/step - loss: 0.7195 - accuracy: 0.5318\n",
      "Epoch 7/30\n",
      "804/804 [==============================] - 2s 2ms/step - loss: 0.6933 - accuracy: 0.5318\n",
      "Epoch 8/30\n",
      "804/804 [==============================] - 1s 2ms/step - loss: 0.6913 - accuracy: 0.5318\n",
      "Epoch 9/30\n",
      "804/804 [==============================] - 1s 1ms/step - loss: 0.6912 - accuracy: 0.5318\n",
      "Epoch 10/30\n",
      "804/804 [==============================] - 1s 2ms/step - loss: 0.6912 - accuracy: 0.5318\n",
      "Epoch 11/30\n",
      "804/804 [==============================] - 1s 2ms/step - loss: 0.6912 - accuracy: 0.5318\n",
      "Epoch 12/30\n",
      "804/804 [==============================] - 1s 2ms/step - loss: 0.6912 - accuracy: 0.5318\n",
      "Epoch 13/30\n",
      "804/804 [==============================] - 1s 2ms/step - loss: 0.6912 - accuracy: 0.5318\n",
      "Epoch 14/30\n",
      "804/804 [==============================] - 1s 2ms/step - loss: 0.6912 - accuracy: 0.5318\n",
      "Epoch 15/30\n",
      "804/804 [==============================] - 2s 3ms/step - loss: 0.6912 - accuracy: 0.5318\n",
      "Epoch 16/30\n",
      "804/804 [==============================] - 3s 3ms/step - loss: 0.6912 - accuracy: 0.5318\n",
      "Epoch 17/30\n",
      "804/804 [==============================] - 2s 3ms/step - loss: 0.6912 - accuracy: 0.5318\n",
      "Epoch 18/30\n",
      "804/804 [==============================] - 3s 3ms/step - loss: 0.6912 - accuracy: 0.5318\n",
      "Epoch 19/30\n",
      "804/804 [==============================] - 2s 3ms/step - loss: 0.6912 - accuracy: 0.5318\n",
      "Epoch 20/30\n",
      "804/804 [==============================] - 3s 3ms/step - loss: 0.6912 - accuracy: 0.5318\n",
      "Epoch 21/30\n",
      "804/804 [==============================] - 3s 3ms/step - loss: 0.6912 - accuracy: 0.5318\n",
      "Epoch 22/30\n",
      "804/804 [==============================] - 3s 3ms/step - loss: 0.6912 - accuracy: 0.5318\n",
      "Epoch 23/30\n",
      "804/804 [==============================] - 3s 3ms/step - loss: 0.6912 - accuracy: 0.5318\n",
      "Epoch 24/30\n",
      "804/804 [==============================] - 3s 3ms/step - loss: 0.6911 - accuracy: 0.5318\n",
      "Epoch 25/30\n",
      "804/804 [==============================] - 3s 3ms/step - loss: 0.6912 - accuracy: 0.5318\n",
      "Epoch 26/30\n",
      "804/804 [==============================] - 2s 3ms/step - loss: 0.6911 - accuracy: 0.5318\n",
      "Epoch 27/30\n",
      "804/804 [==============================] - 3s 3ms/step - loss: 0.6912 - accuracy: 0.5318\n",
      "Epoch 28/30\n",
      "804/804 [==============================] - 3s 3ms/step - loss: 0.6912 - accuracy: 0.5318\n",
      "Epoch 29/30\n",
      "804/804 [==============================] - 3s 3ms/step - loss: 0.6912 - accuracy: 0.5318\n",
      "Epoch 30/30\n",
      "804/804 [==============================] - 3s 3ms/step - loss: 0.6912 - accuracy: 0.5318\n"
     ]
    }
   ],
   "source": [
    "# Train the model\n",
    "fit_model = nn.fit(X_train, y_train,epochs=30)"
   ]
  },
  {
   "cell_type": "code",
   "execution_count": 24,
   "metadata": {},
   "outputs": [
    {
     "name": "stdout",
     "output_type": "stream",
     "text": [
      "268/268 - 1s - loss: 0.6638 - accuracy: 0.5917 - 755ms/epoch - 3ms/step\n",
      "Loss: 0.6638347506523132, Accuracy: 0.5917201042175293\n"
     ]
    }
   ],
   "source": [
    "# Evaluate the model using the test data\n",
    "model_loss, model_accuracy = nn.evaluate(X_test_scaled,y_test,verbose=2)\n",
    "print(f\"Loss: {model_loss}, Accuracy: {model_accuracy}\")"
   ]
  },
  {
   "cell_type": "code",
   "execution_count": 25,
   "metadata": {},
   "outputs": [],
   "source": [
    "# Export our model to HDF5 file\n",
    "nn.save(\"AlphabetSoupCharity_A2.h5\")"
   ]
  },
  {
   "cell_type": "markdown",
   "metadata": {},
   "source": [
    "### Attempt 3: Changing activation function of output layer"
   ]
  },
  {
   "cell_type": "code",
   "execution_count": 26,
   "metadata": {},
   "outputs": [
    {
     "name": "stdout",
     "output_type": "stream",
     "text": [
      "Model: \"sequential_4\"\n",
      "_________________________________________________________________\n",
      " Layer (type)                Output Shape              Param #   \n",
      "=================================================================\n",
      " dense_7 (Dense)             (None, 100)               5000      \n",
      "                                                                 \n",
      " dense_8 (Dense)             (None, 50)                5050      \n",
      "                                                                 \n",
      " dense_9 (Dense)             (None, 20)                1020      \n",
      "                                                                 \n",
      " dense_10 (Dense)            (None, 1)                 21        \n",
      "                                                                 \n",
      "=================================================================\n",
      "Total params: 11,091\n",
      "Trainable params: 11,091\n",
      "Non-trainable params: 0\n",
      "_________________________________________________________________\n"
     ]
    }
   ],
   "source": [
    "# Define the model - deep neural net, i.e., the number of input features and hidden nodes for each layer.\n",
    "\n",
    "number_input_features = len(X_train[0])\n",
    "hidden_nodes_layer1 = 100\n",
    "hidden_nodes_layer2 = 50\n",
    "hidden_nodes_layer3 = 20\n",
    "\n",
    "nn = tf.keras.models.Sequential()\n",
    "\n",
    "# First hidden layer\n",
    "nn.add(tf.keras.layers.Dense(units=hidden_nodes_layer1, input_dim=number_input_features, activation=\"relu\"))\n",
    "\n",
    "# Second hidden layer\n",
    "nn.add(tf.keras.layers.Dense(units=hidden_nodes_layer2, activation=\"relu\"))\n",
    "\n",
    "# Third hidden layer\n",
    "nn.add(tf.keras.layers.Dense(units=hidden_nodes_layer3, activation=\"relu\"))\n",
    "\n",
    "\n",
    "# Output layer\n",
    "nn.add(tf.keras.layers.Dense(units=1, activation=\"tanh\"))\n",
    "\n",
    "# Check the structure of the model\n",
    "nn.summary()"
   ]
  },
  {
   "cell_type": "code",
   "execution_count": 27,
   "metadata": {},
   "outputs": [],
   "source": [
    "# Import checkpoint dependencies\n",
    "import os\n",
    "from tensorflow.keras.callbacks import ModelCheckpoint\n",
    "\n",
    "# Define the checkpoint path and filenames\n",
    "os.makedirs(\"checkpoints/\",exist_ok=True)\n",
    "checkpoint_path = \"checkpoints/weights.{epoch:02d}.hdf5\""
   ]
  },
  {
   "cell_type": "code",
   "execution_count": 28,
   "metadata": {},
   "outputs": [],
   "source": [
    "# Compile the model\n",
    "nn.compile(loss=\"binary_crossentropy\", optimizer=\"adam\", metrics=[\"accuracy\"])"
   ]
  },
  {
   "cell_type": "code",
   "execution_count": 29,
   "metadata": {},
   "outputs": [],
   "source": [
    "# Create a callback that saves the model's weights every 5 epochs\n",
    "cp_callback = ModelCheckpoint(\n",
    "    filepath=checkpoint_path,\n",
    "    verbose=1,\n",
    "    save_weights_only=True,\n",
    "    save_freq=1000)"
   ]
  },
  {
   "cell_type": "code",
   "execution_count": 30,
   "metadata": {},
   "outputs": [
    {
     "name": "stdout",
     "output_type": "stream",
     "text": [
      "Epoch 1/30\n",
      "804/804 [==============================] - 4s 3ms/step - loss: 8.2024 - accuracy: 0.4682\n",
      "Epoch 2/30\n",
      "804/804 [==============================] - 3s 3ms/step - loss: 8.2024 - accuracy: 0.4682\n",
      "Epoch 3/30\n",
      "804/804 [==============================] - 3s 3ms/step - loss: 8.2024 - accuracy: 0.4682\n",
      "Epoch 4/30\n",
      "804/804 [==============================] - 3s 3ms/step - loss: 8.2024 - accuracy: 0.4682\n",
      "Epoch 5/30\n",
      "804/804 [==============================] - 3s 3ms/step - loss: 8.2024 - accuracy: 0.4682\n",
      "Epoch 6/30\n",
      "804/804 [==============================] - 3s 3ms/step - loss: 8.2024 - accuracy: 0.4682\n",
      "Epoch 7/30\n",
      "804/804 [==============================] - 3s 3ms/step - loss: 8.2024 - accuracy: 0.4682\n",
      "Epoch 8/30\n",
      "804/804 [==============================] - 3s 3ms/step - loss: 8.2024 - accuracy: 0.4682\n",
      "Epoch 9/30\n",
      "804/804 [==============================] - 3s 3ms/step - loss: 8.2024 - accuracy: 0.4682\n",
      "Epoch 10/30\n",
      "804/804 [==============================] - 3s 3ms/step - loss: 8.2024 - accuracy: 0.4682\n",
      "Epoch 11/30\n",
      "804/804 [==============================] - 3s 3ms/step - loss: 8.2024 - accuracy: 0.4682\n",
      "Epoch 12/30\n",
      "804/804 [==============================] - 3s 3ms/step - loss: 8.2024 - accuracy: 0.4682\n",
      "Epoch 13/30\n",
      "804/804 [==============================] - 3s 3ms/step - loss: 8.2024 - accuracy: 0.4682\n",
      "Epoch 14/30\n",
      "804/804 [==============================] - 3s 3ms/step - loss: 8.2024 - accuracy: 0.4682\n",
      "Epoch 15/30\n",
      "804/804 [==============================] - 3s 3ms/step - loss: 8.2024 - accuracy: 0.4682\n",
      "Epoch 16/30\n",
      "804/804 [==============================] - 3s 3ms/step - loss: 8.2024 - accuracy: 0.4682\n",
      "Epoch 17/30\n",
      "804/804 [==============================] - 3s 3ms/step - loss: 8.2024 - accuracy: 0.4682\n",
      "Epoch 18/30\n",
      "804/804 [==============================] - 3s 3ms/step - loss: 8.2024 - accuracy: 0.4682\n",
      "Epoch 19/30\n",
      "804/804 [==============================] - 3s 3ms/step - loss: 8.2024 - accuracy: 0.4682\n",
      "Epoch 20/30\n",
      "804/804 [==============================] - 3s 3ms/step - loss: 8.2024 - accuracy: 0.4682\n",
      "Epoch 21/30\n",
      "804/804 [==============================] - 3s 4ms/step - loss: 8.2024 - accuracy: 0.4682\n",
      "Epoch 22/30\n",
      "804/804 [==============================] - 3s 4ms/step - loss: 8.2024 - accuracy: 0.4682\n",
      "Epoch 23/30\n",
      "804/804 [==============================] - 2s 3ms/step - loss: 8.2024 - accuracy: 0.4682\n",
      "Epoch 24/30\n",
      "804/804 [==============================] - 3s 3ms/step - loss: 8.2024 - accuracy: 0.4682\n",
      "Epoch 25/30\n",
      "804/804 [==============================] - 3s 3ms/step - loss: 8.2024 - accuracy: 0.4682\n",
      "Epoch 26/30\n",
      "804/804 [==============================] - 3s 3ms/step - loss: 8.2024 - accuracy: 0.4682\n",
      "Epoch 27/30\n",
      "804/804 [==============================] - 3s 4ms/step - loss: 8.2024 - accuracy: 0.4682\n",
      "Epoch 28/30\n",
      "804/804 [==============================] - 3s 3ms/step - loss: 8.2024 - accuracy: 0.4682\n",
      "Epoch 29/30\n",
      "804/804 [==============================] - 3s 3ms/step - loss: 8.2024 - accuracy: 0.4682\n",
      "Epoch 30/30\n",
      "804/804 [==============================] - 3s 3ms/step - loss: 8.2024 - accuracy: 0.4682\n"
     ]
    }
   ],
   "source": [
    "# Train the model\n",
    "fit_model = nn.fit(X_train, y_train,epochs=30)"
   ]
  },
  {
   "cell_type": "code",
   "execution_count": 31,
   "metadata": {},
   "outputs": [
    {
     "name": "stdout",
     "output_type": "stream",
     "text": [
      "268/268 - 1s - loss: 8.2422 - accuracy: 0.4657 - 1s/epoch - 4ms/step\n",
      "Loss: 8.242232322692871, Accuracy: 0.46565598249435425\n"
     ]
    }
   ],
   "source": [
    "# Evaluate the model using the test data\n",
    "model_loss, model_accuracy = nn.evaluate(X_test_scaled,y_test,verbose=2)\n",
    "print(f\"Loss: {model_loss}, Accuracy: {model_accuracy}\")"
   ]
  },
  {
   "cell_type": "code",
   "execution_count": 32,
   "metadata": {},
   "outputs": [],
   "source": [
    "# Export our model to HDF5 file\n",
    "nn.save(\"AlphabetSoupCharity_Optimization.h5\")"
   ]
  },
  {
   "cell_type": "code",
   "execution_count": null,
   "metadata": {},
   "outputs": [],
   "source": [
    "# 'worked with TA's and Other students to develop code and also looked some stuff up onon stackoverflow to help me find the answers need to get the right idea going'"
   ]
  },
  {
   "cell_type": "code",
   "execution_count": null,
   "metadata": {},
   "outputs": [],
   "source": []
  }
 ],
 "metadata": {
  "kernelspec": {
   "display_name": "Python 3.8.13 ('PythonData38')",
   "language": "python",
   "name": "python3"
  },
  "language_info": {
   "codemirror_mode": {
    "name": "ipython",
    "version": 3
   },
   "file_extension": ".py",
   "mimetype": "text/x-python",
   "name": "python",
   "nbconvert_exporter": "python",
   "pygments_lexer": "ipython3",
   "version": "3.8.13"
  },
  "vscode": {
   "interpreter": {
    "hash": "f7640aa6d6c32e9772b1be5e5ae5e50f8d8eff92bbdcd9b73d2e057bd18c7a89"
   }
  }
 },
 "nbformat": 4,
 "nbformat_minor": 4
}
